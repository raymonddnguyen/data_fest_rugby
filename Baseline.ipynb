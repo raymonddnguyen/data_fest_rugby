{
 "cells": [
  {
   "cell_type": "code",
   "execution_count": 179,
   "metadata": {},
   "outputs": [],
   "source": [
    "import numpy as np\n",
    "import pandas as pd\n",
    "import matplotlib.pyplot as plt\n",
    "import seaborn as sns\n",
    "\n",
    "%matplotlib inline"
   ]
  },
  {
   "cell_type": "code",
   "execution_count": 4,
   "metadata": {},
   "outputs": [],
   "source": [
    "games = pd.read_csv('Data/games.csv')\n",
    "gps = pd.read_csv('Data/gps.csv', low_memory=False)\n",
    "rpe = pd.read_csv('Data/rpe.csv')\n",
    "wellness = pd.read_csv('Data/wellness.csv')"
   ]
  },
  {
   "cell_type": "code",
   "execution_count": 5,
   "metadata": {},
   "outputs": [],
   "source": [
    "datafest = pd.read_excel('DataFest 2019 - Codebook.xlsx')"
   ]
  },
  {
   "cell_type": "code",
   "execution_count": 6,
   "metadata": {},
   "outputs": [
    {
     "data": {
      "text/html": [
       "<div>\n",
       "<style>\n",
       "    .dataframe thead tr:only-child th {\n",
       "        text-align: right;\n",
       "    }\n",
       "\n",
       "    .dataframe thead th {\n",
       "        text-align: left;\n",
       "    }\n",
       "\n",
       "    .dataframe tbody tr th {\n",
       "        vertical-align: top;\n",
       "    }\n",
       "</style>\n",
       "<table border=\"1\" class=\"dataframe\">\n",
       "  <thead>\n",
       "    <tr style=\"text-align: right;\">\n",
       "      <th></th>\n",
       "      <th>Variable</th>\n",
       "      <th>Description</th>\n",
       "    </tr>\n",
       "  </thead>\n",
       "  <tbody>\n",
       "    <tr>\n",
       "      <th>0</th>\n",
       "      <td>GameID</td>\n",
       "      <td>Unique identifier for the game</td>\n",
       "    </tr>\n",
       "    <tr>\n",
       "      <th>1</th>\n",
       "      <td>Date</td>\n",
       "      <td>Date on which the game was played</td>\n",
       "    </tr>\n",
       "    <tr>\n",
       "      <th>2</th>\n",
       "      <td>Tournament</td>\n",
       "      <td>Tournament that hosts game</td>\n",
       "    </tr>\n",
       "    <tr>\n",
       "      <th>3</th>\n",
       "      <td>TournamentGame</td>\n",
       "      <td>The game number of the tournament (1 = 1st gam...</td>\n",
       "    </tr>\n",
       "    <tr>\n",
       "      <th>4</th>\n",
       "      <td>Team</td>\n",
       "      <td>Canada</td>\n",
       "    </tr>\n",
       "    <tr>\n",
       "      <th>5</th>\n",
       "      <td>Opponent</td>\n",
       "      <td>The country that Canada played against</td>\n",
       "    </tr>\n",
       "    <tr>\n",
       "      <th>6</th>\n",
       "      <td>Outcome</td>\n",
       "      <td>W if Canada won the game, L if Canada lost</td>\n",
       "    </tr>\n",
       "    <tr>\n",
       "      <th>7</th>\n",
       "      <td>TeamPoints</td>\n",
       "      <td>Number of points that Canada scored</td>\n",
       "    </tr>\n",
       "    <tr>\n",
       "      <th>8</th>\n",
       "      <td>TeamPointsAllowed</td>\n",
       "      <td>Number of points that the opposing team scored</td>\n",
       "    </tr>\n",
       "  </tbody>\n",
       "</table>\n",
       "</div>"
      ],
      "text/plain": [
       "            Variable                                        Description\n",
       "0             GameID                     Unique identifier for the game\n",
       "1               Date                  Date on which the game was played\n",
       "2         Tournament                         Tournament that hosts game\n",
       "3     TournamentGame  The game number of the tournament (1 = 1st gam...\n",
       "4               Team                                             Canada\n",
       "5           Opponent             The country that Canada played against\n",
       "6            Outcome         W if Canada won the game, L if Canada lost\n",
       "7         TeamPoints                Number of points that Canada scored\n",
       "8  TeamPointsAllowed     Number of points that the opposing team scored"
      ]
     },
     "execution_count": 6,
     "metadata": {},
     "output_type": "execute_result"
    }
   ],
   "source": [
    "datafest"
   ]
  },
  {
   "cell_type": "code",
   "execution_count": 139,
   "metadata": {},
   "outputs": [
    {
     "data": {
      "text/plain": [
       "array(['2017-11-30', '2017-12-01', '2018-01-26', '2018-01-27',\n",
       "       '2018-01-28', '2018-04-13', '2018-04-14', '2018-04-15',\n",
       "       '2018-04-21', '2018-04-22', '2018-05-12', '2018-05-13',\n",
       "       '2018-06-08', '2018-06-09', '2018-06-10', '2018-07-20', '2018-07-21'], dtype=object)"
      ]
     },
     "execution_count": 139,
     "metadata": {},
     "output_type": "execute_result"
    }
   ],
   "source": [
    "games['Date'].unique()"
   ]
  },
  {
   "cell_type": "code",
   "execution_count": 7,
   "metadata": {},
   "outputs": [
    {
     "data": {
      "text/html": [
       "<div>\n",
       "<style>\n",
       "    .dataframe thead tr:only-child th {\n",
       "        text-align: right;\n",
       "    }\n",
       "\n",
       "    .dataframe thead th {\n",
       "        text-align: left;\n",
       "    }\n",
       "\n",
       "    .dataframe tbody tr th {\n",
       "        vertical-align: top;\n",
       "    }\n",
       "</style>\n",
       "<table border=\"1\" class=\"dataframe\">\n",
       "  <thead>\n",
       "    <tr style=\"text-align: right;\">\n",
       "      <th></th>\n",
       "      <th>GameID</th>\n",
       "      <th>Date</th>\n",
       "      <th>Tournament</th>\n",
       "      <th>TournamentGame</th>\n",
       "      <th>Team</th>\n",
       "      <th>Opponent</th>\n",
       "      <th>Outcome</th>\n",
       "      <th>TeamPoints</th>\n",
       "      <th>TeamPointsAllowed</th>\n",
       "    </tr>\n",
       "  </thead>\n",
       "  <tbody>\n",
       "    <tr>\n",
       "      <th>0</th>\n",
       "      <td>1</td>\n",
       "      <td>2017-11-30</td>\n",
       "      <td>Dubai</td>\n",
       "      <td>1</td>\n",
       "      <td>Canada</td>\n",
       "      <td>Spain</td>\n",
       "      <td>W</td>\n",
       "      <td>19</td>\n",
       "      <td>0</td>\n",
       "    </tr>\n",
       "    <tr>\n",
       "      <th>1</th>\n",
       "      <td>2</td>\n",
       "      <td>2017-11-30</td>\n",
       "      <td>Dubai</td>\n",
       "      <td>2</td>\n",
       "      <td>Canada</td>\n",
       "      <td>Ireland</td>\n",
       "      <td>W</td>\n",
       "      <td>31</td>\n",
       "      <td>0</td>\n",
       "    </tr>\n",
       "    <tr>\n",
       "      <th>2</th>\n",
       "      <td>3</td>\n",
       "      <td>2017-11-30</td>\n",
       "      <td>Dubai</td>\n",
       "      <td>3</td>\n",
       "      <td>Canada</td>\n",
       "      <td>Fiji</td>\n",
       "      <td>W</td>\n",
       "      <td>31</td>\n",
       "      <td>14</td>\n",
       "    </tr>\n",
       "    <tr>\n",
       "      <th>3</th>\n",
       "      <td>4</td>\n",
       "      <td>2017-12-01</td>\n",
       "      <td>Dubai</td>\n",
       "      <td>4</td>\n",
       "      <td>Canada</td>\n",
       "      <td>France</td>\n",
       "      <td>W</td>\n",
       "      <td>24</td>\n",
       "      <td>19</td>\n",
       "    </tr>\n",
       "    <tr>\n",
       "      <th>4</th>\n",
       "      <td>5</td>\n",
       "      <td>2017-12-01</td>\n",
       "      <td>Dubai</td>\n",
       "      <td>5</td>\n",
       "      <td>Canada</td>\n",
       "      <td>Australia</td>\n",
       "      <td>L</td>\n",
       "      <td>7</td>\n",
       "      <td>25</td>\n",
       "    </tr>\n",
       "  </tbody>\n",
       "</table>\n",
       "</div>"
      ],
      "text/plain": [
       "   GameID        Date Tournament  TournamentGame    Team   Opponent Outcome  \\\n",
       "0       1  2017-11-30      Dubai               1  Canada      Spain       W   \n",
       "1       2  2017-11-30      Dubai               2  Canada    Ireland       W   \n",
       "2       3  2017-11-30      Dubai               3  Canada       Fiji       W   \n",
       "3       4  2017-12-01      Dubai               4  Canada     France       W   \n",
       "4       5  2017-12-01      Dubai               5  Canada  Australia       L   \n",
       "\n",
       "   TeamPoints  TeamPointsAllowed  \n",
       "0          19                  0  \n",
       "1          31                  0  \n",
       "2          31                 14  \n",
       "3          24                 19  \n",
       "4           7                 25  "
      ]
     },
     "execution_count": 7,
     "metadata": {},
     "output_type": "execute_result"
    }
   ],
   "source": [
    "games.head()"
   ]
  },
  {
   "cell_type": "code",
   "execution_count": 8,
   "metadata": {},
   "outputs": [
    {
     "data": {
      "text/html": [
       "<div>\n",
       "<style>\n",
       "    .dataframe thead tr:only-child th {\n",
       "        text-align: right;\n",
       "    }\n",
       "\n",
       "    .dataframe thead th {\n",
       "        text-align: left;\n",
       "    }\n",
       "\n",
       "    .dataframe tbody tr th {\n",
       "        vertical-align: top;\n",
       "    }\n",
       "</style>\n",
       "<table border=\"1\" class=\"dataframe\">\n",
       "  <thead>\n",
       "    <tr style=\"text-align: right;\">\n",
       "      <th></th>\n",
       "      <th>GameID</th>\n",
       "      <th>Half</th>\n",
       "      <th>PlayerID</th>\n",
       "      <th>FrameID</th>\n",
       "      <th>Time</th>\n",
       "      <th>GameClock</th>\n",
       "      <th>Speed</th>\n",
       "      <th>AccelImpulse</th>\n",
       "      <th>AccelLoad</th>\n",
       "      <th>AccelX</th>\n",
       "      <th>AccelY</th>\n",
       "      <th>AccelZ</th>\n",
       "      <th>Longitude</th>\n",
       "      <th>Latitude</th>\n",
       "    </tr>\n",
       "  </thead>\n",
       "  <tbody>\n",
       "    <tr>\n",
       "      <th>0</th>\n",
       "      <td>1</td>\n",
       "      <td>1</td>\n",
       "      <td>2</td>\n",
       "      <td>1</td>\n",
       "      <td>00:22:01</td>\n",
       "      <td>00:00:00</td>\n",
       "      <td>0.658334</td>\n",
       "      <td>0.611112</td>\n",
       "      <td>0.005330</td>\n",
       "      <td>0.13250</td>\n",
       "      <td>0.69875</td>\n",
       "      <td>0.56500</td>\n",
       "      <td>55.466666</td>\n",
       "      <td>24.994873</td>\n",
       "    </tr>\n",
       "    <tr>\n",
       "      <th>1</th>\n",
       "      <td>1</td>\n",
       "      <td>1</td>\n",
       "      <td>2</td>\n",
       "      <td>2</td>\n",
       "      <td>00:22:01</td>\n",
       "      <td>00:00:00</td>\n",
       "      <td>0.594445</td>\n",
       "      <td>0.638889</td>\n",
       "      <td>0.006568</td>\n",
       "      <td>0.11125</td>\n",
       "      <td>0.92000</td>\n",
       "      <td>0.70625</td>\n",
       "      <td>55.466666</td>\n",
       "      <td>24.994874</td>\n",
       "    </tr>\n",
       "    <tr>\n",
       "      <th>2</th>\n",
       "      <td>1</td>\n",
       "      <td>1</td>\n",
       "      <td>2</td>\n",
       "      <td>3</td>\n",
       "      <td>00:22:01</td>\n",
       "      <td>00:00:00</td>\n",
       "      <td>0.363889</td>\n",
       "      <td>2.305557</td>\n",
       "      <td>0.003114</td>\n",
       "      <td>0.01375</td>\n",
       "      <td>0.77000</td>\n",
       "      <td>0.67750</td>\n",
       "      <td>55.466667</td>\n",
       "      <td>24.994874</td>\n",
       "    </tr>\n",
       "    <tr>\n",
       "      <th>3</th>\n",
       "      <td>1</td>\n",
       "      <td>1</td>\n",
       "      <td>2</td>\n",
       "      <td>4</td>\n",
       "      <td>00:22:01</td>\n",
       "      <td>00:00:00</td>\n",
       "      <td>0.444445</td>\n",
       "      <td>0.805556</td>\n",
       "      <td>0.002602</td>\n",
       "      <td>0.00625</td>\n",
       "      <td>0.88625</td>\n",
       "      <td>0.59500</td>\n",
       "      <td>55.466667</td>\n",
       "      <td>24.994874</td>\n",
       "    </tr>\n",
       "    <tr>\n",
       "      <th>4</th>\n",
       "      <td>1</td>\n",
       "      <td>1</td>\n",
       "      <td>2</td>\n",
       "      <td>5</td>\n",
       "      <td>00:22:01</td>\n",
       "      <td>00:00:00</td>\n",
       "      <td>0.400000</td>\n",
       "      <td>0.444445</td>\n",
       "      <td>0.003813</td>\n",
       "      <td>-0.01750</td>\n",
       "      <td>0.85750</td>\n",
       "      <td>0.57375</td>\n",
       "      <td>55.466668</td>\n",
       "      <td>24.994874</td>\n",
       "    </tr>\n",
       "  </tbody>\n",
       "</table>\n",
       "</div>"
      ],
      "text/plain": [
       "   GameID  Half  PlayerID  FrameID      Time GameClock     Speed  \\\n",
       "0       1     1         2        1  00:22:01  00:00:00  0.658334   \n",
       "1       1     1         2        2  00:22:01  00:00:00  0.594445   \n",
       "2       1     1         2        3  00:22:01  00:00:00  0.363889   \n",
       "3       1     1         2        4  00:22:01  00:00:00  0.444445   \n",
       "4       1     1         2        5  00:22:01  00:00:00  0.400000   \n",
       "\n",
       "   AccelImpulse  AccelLoad   AccelX   AccelY   AccelZ  Longitude   Latitude  \n",
       "0      0.611112   0.005330  0.13250  0.69875  0.56500  55.466666  24.994873  \n",
       "1      0.638889   0.006568  0.11125  0.92000  0.70625  55.466666  24.994874  \n",
       "2      2.305557   0.003114  0.01375  0.77000  0.67750  55.466667  24.994874  \n",
       "3      0.805556   0.002602  0.00625  0.88625  0.59500  55.466667  24.994874  \n",
       "4      0.444445   0.003813 -0.01750  0.85750  0.57375  55.466668  24.994874  "
      ]
     },
     "execution_count": 8,
     "metadata": {},
     "output_type": "execute_result"
    }
   ],
   "source": [
    "gps.head()"
   ]
  },
  {
   "cell_type": "code",
   "execution_count": 9,
   "metadata": {},
   "outputs": [
    {
     "data": {
      "text/html": [
       "<div>\n",
       "<style>\n",
       "    .dataframe thead tr:only-child th {\n",
       "        text-align: right;\n",
       "    }\n",
       "\n",
       "    .dataframe thead th {\n",
       "        text-align: left;\n",
       "    }\n",
       "\n",
       "    .dataframe tbody tr th {\n",
       "        vertical-align: top;\n",
       "    }\n",
       "</style>\n",
       "<table border=\"1\" class=\"dataframe\">\n",
       "  <thead>\n",
       "    <tr style=\"text-align: right;\">\n",
       "      <th></th>\n",
       "      <th>Date</th>\n",
       "      <th>PlayerID</th>\n",
       "      <th>Training</th>\n",
       "      <th>SessionType</th>\n",
       "      <th>Duration</th>\n",
       "      <th>RPE</th>\n",
       "      <th>SessionLoad</th>\n",
       "      <th>DailyLoad</th>\n",
       "      <th>AcuteLoad</th>\n",
       "      <th>ChronicLoad</th>\n",
       "      <th>AcuteChronicRatio</th>\n",
       "      <th>ObjectiveRating</th>\n",
       "      <th>FocusRating</th>\n",
       "      <th>BestOutOfMyself</th>\n",
       "    </tr>\n",
       "  </thead>\n",
       "  <tbody>\n",
       "    <tr>\n",
       "      <th>0</th>\n",
       "      <td>2018-07-21</td>\n",
       "      <td>13</td>\n",
       "      <td>Yes</td>\n",
       "      <td>Mobility/Recovery</td>\n",
       "      <td>5.0</td>\n",
       "      <td>0.0</td>\n",
       "      <td>0.0</td>\n",
       "      <td>446.0</td>\n",
       "      <td>323.1</td>\n",
       "      <td>303.25</td>\n",
       "      <td>1.07</td>\n",
       "      <td>NaN</td>\n",
       "      <td>NaN</td>\n",
       "      <td>Not at all</td>\n",
       "    </tr>\n",
       "    <tr>\n",
       "      <th>1</th>\n",
       "      <td>2018-07-21</td>\n",
       "      <td>13</td>\n",
       "      <td>Yes</td>\n",
       "      <td>Game</td>\n",
       "      <td>29.0</td>\n",
       "      <td>7.0</td>\n",
       "      <td>203.0</td>\n",
       "      <td>NaN</td>\n",
       "      <td>NaN</td>\n",
       "      <td>NaN</td>\n",
       "      <td>NaN</td>\n",
       "      <td>NaN</td>\n",
       "      <td>NaN</td>\n",
       "      <td>Not at all</td>\n",
       "    </tr>\n",
       "    <tr>\n",
       "      <th>2</th>\n",
       "      <td>2018-07-21</td>\n",
       "      <td>13</td>\n",
       "      <td>Yes</td>\n",
       "      <td>Game</td>\n",
       "      <td>27.0</td>\n",
       "      <td>9.0</td>\n",
       "      <td>243.0</td>\n",
       "      <td>NaN</td>\n",
       "      <td>NaN</td>\n",
       "      <td>NaN</td>\n",
       "      <td>NaN</td>\n",
       "      <td>NaN</td>\n",
       "      <td>NaN</td>\n",
       "      <td>Not at all</td>\n",
       "    </tr>\n",
       "    <tr>\n",
       "      <th>3</th>\n",
       "      <td>2018-07-20</td>\n",
       "      <td>11</td>\n",
       "      <td>Yes</td>\n",
       "      <td>Game</td>\n",
       "      <td>36.0</td>\n",
       "      <td>6.0</td>\n",
       "      <td>216.0</td>\n",
       "      <td>534.0</td>\n",
       "      <td>256.3</td>\n",
       "      <td>344.18</td>\n",
       "      <td>0.74</td>\n",
       "      <td>9.0</td>\n",
       "      <td>10.0</td>\n",
       "      <td>Absolutely</td>\n",
       "    </tr>\n",
       "    <tr>\n",
       "      <th>4</th>\n",
       "      <td>2018-07-20</td>\n",
       "      <td>11</td>\n",
       "      <td>Yes</td>\n",
       "      <td>Game</td>\n",
       "      <td>36.0</td>\n",
       "      <td>8.0</td>\n",
       "      <td>288.0</td>\n",
       "      <td>NaN</td>\n",
       "      <td>NaN</td>\n",
       "      <td>NaN</td>\n",
       "      <td>NaN</td>\n",
       "      <td>9.0</td>\n",
       "      <td>10.0</td>\n",
       "      <td>Absolutely</td>\n",
       "    </tr>\n",
       "  </tbody>\n",
       "</table>\n",
       "</div>"
      ],
      "text/plain": [
       "         Date  PlayerID Training        SessionType  Duration  RPE  \\\n",
       "0  2018-07-21        13      Yes  Mobility/Recovery       5.0  0.0   \n",
       "1  2018-07-21        13      Yes               Game      29.0  7.0   \n",
       "2  2018-07-21        13      Yes               Game      27.0  9.0   \n",
       "3  2018-07-20        11      Yes               Game      36.0  6.0   \n",
       "4  2018-07-20        11      Yes               Game      36.0  8.0   \n",
       "\n",
       "   SessionLoad  DailyLoad  AcuteLoad  ChronicLoad  AcuteChronicRatio  \\\n",
       "0          0.0      446.0      323.1       303.25               1.07   \n",
       "1        203.0        NaN        NaN          NaN                NaN   \n",
       "2        243.0        NaN        NaN          NaN                NaN   \n",
       "3        216.0      534.0      256.3       344.18               0.74   \n",
       "4        288.0        NaN        NaN          NaN                NaN   \n",
       "\n",
       "   ObjectiveRating  FocusRating BestOutOfMyself  \n",
       "0              NaN          NaN      Not at all  \n",
       "1              NaN          NaN      Not at all  \n",
       "2              NaN          NaN      Not at all  \n",
       "3              9.0         10.0      Absolutely  \n",
       "4              9.0         10.0      Absolutely  "
      ]
     },
     "execution_count": 9,
     "metadata": {},
     "output_type": "execute_result"
    }
   ],
   "source": [
    "rpe.head()"
   ]
  },
  {
   "cell_type": "code",
   "execution_count": 10,
   "metadata": {},
   "outputs": [
    {
     "data": {
      "text/html": [
       "<div>\n",
       "<style>\n",
       "    .dataframe thead tr:only-child th {\n",
       "        text-align: right;\n",
       "    }\n",
       "\n",
       "    .dataframe thead th {\n",
       "        text-align: left;\n",
       "    }\n",
       "\n",
       "    .dataframe tbody tr th {\n",
       "        vertical-align: top;\n",
       "    }\n",
       "</style>\n",
       "<table border=\"1\" class=\"dataframe\">\n",
       "  <thead>\n",
       "    <tr style=\"text-align: right;\">\n",
       "      <th></th>\n",
       "      <th>Date</th>\n",
       "      <th>PlayerID</th>\n",
       "      <th>Fatigue</th>\n",
       "      <th>Soreness</th>\n",
       "      <th>Desire</th>\n",
       "      <th>Irritability</th>\n",
       "      <th>BedTime</th>\n",
       "      <th>WakeTime</th>\n",
       "      <th>SleepHours</th>\n",
       "      <th>SleepQuality</th>\n",
       "      <th>MonitoringScore</th>\n",
       "      <th>Pain</th>\n",
       "      <th>Illness</th>\n",
       "      <th>Menstruation</th>\n",
       "      <th>Nutrition</th>\n",
       "      <th>NutritionAdjustment</th>\n",
       "      <th>USGMeasurement</th>\n",
       "      <th>USG</th>\n",
       "      <th>TrainingReadiness</th>\n",
       "    </tr>\n",
       "  </thead>\n",
       "  <tbody>\n",
       "    <tr>\n",
       "      <th>0</th>\n",
       "      <td>2018-07-21</td>\n",
       "      <td>1</td>\n",
       "      <td>3</td>\n",
       "      <td>3</td>\n",
       "      <td>2</td>\n",
       "      <td>3</td>\n",
       "      <td>23:00:00</td>\n",
       "      <td>07:00:00</td>\n",
       "      <td>8.00</td>\n",
       "      <td>2</td>\n",
       "      <td>13</td>\n",
       "      <td>No</td>\n",
       "      <td>No</td>\n",
       "      <td>Yes</td>\n",
       "      <td>Excellent</td>\n",
       "      <td>Yes</td>\n",
       "      <td>No</td>\n",
       "      <td>NaN</td>\n",
       "      <td>0%</td>\n",
       "    </tr>\n",
       "    <tr>\n",
       "      <th>1</th>\n",
       "      <td>2018-07-21</td>\n",
       "      <td>2</td>\n",
       "      <td>4</td>\n",
       "      <td>3</td>\n",
       "      <td>4</td>\n",
       "      <td>4</td>\n",
       "      <td>23:00:00</td>\n",
       "      <td>07:00:00</td>\n",
       "      <td>8.00</td>\n",
       "      <td>4</td>\n",
       "      <td>19</td>\n",
       "      <td>Yes</td>\n",
       "      <td>No</td>\n",
       "      <td>Yes</td>\n",
       "      <td>NaN</td>\n",
       "      <td>NaN</td>\n",
       "      <td>Yes</td>\n",
       "      <td>1.010</td>\n",
       "      <td>0%</td>\n",
       "    </tr>\n",
       "    <tr>\n",
       "      <th>2</th>\n",
       "      <td>2018-07-21</td>\n",
       "      <td>3</td>\n",
       "      <td>3</td>\n",
       "      <td>3</td>\n",
       "      <td>5</td>\n",
       "      <td>4</td>\n",
       "      <td>22:30:00</td>\n",
       "      <td>06:30:00</td>\n",
       "      <td>8.00</td>\n",
       "      <td>4</td>\n",
       "      <td>19</td>\n",
       "      <td>No</td>\n",
       "      <td>No</td>\n",
       "      <td>No</td>\n",
       "      <td>NaN</td>\n",
       "      <td>NaN</td>\n",
       "      <td>Yes</td>\n",
       "      <td>1.016</td>\n",
       "      <td>100%</td>\n",
       "    </tr>\n",
       "    <tr>\n",
       "      <th>3</th>\n",
       "      <td>2018-07-21</td>\n",
       "      <td>4</td>\n",
       "      <td>2</td>\n",
       "      <td>3</td>\n",
       "      <td>5</td>\n",
       "      <td>4</td>\n",
       "      <td>00:30:00</td>\n",
       "      <td>07:00:00</td>\n",
       "      <td>6.50</td>\n",
       "      <td>1</td>\n",
       "      <td>15</td>\n",
       "      <td>No</td>\n",
       "      <td>No</td>\n",
       "      <td>Yes</td>\n",
       "      <td>Excellent</td>\n",
       "      <td>Yes</td>\n",
       "      <td>Yes</td>\n",
       "      <td>1.025</td>\n",
       "      <td>95%</td>\n",
       "    </tr>\n",
       "    <tr>\n",
       "      <th>4</th>\n",
       "      <td>2018-07-21</td>\n",
       "      <td>5</td>\n",
       "      <td>5</td>\n",
       "      <td>3</td>\n",
       "      <td>4</td>\n",
       "      <td>4</td>\n",
       "      <td>23:45:00</td>\n",
       "      <td>07:00:00</td>\n",
       "      <td>7.25</td>\n",
       "      <td>4</td>\n",
       "      <td>20</td>\n",
       "      <td>No</td>\n",
       "      <td>No</td>\n",
       "      <td>No</td>\n",
       "      <td>Okay</td>\n",
       "      <td>Yes</td>\n",
       "      <td>Yes</td>\n",
       "      <td>1.022</td>\n",
       "      <td>100%</td>\n",
       "    </tr>\n",
       "  </tbody>\n",
       "</table>\n",
       "</div>"
      ],
      "text/plain": [
       "         Date  PlayerID  Fatigue  Soreness  Desire  Irritability   BedTime  \\\n",
       "0  2018-07-21         1        3         3       2             3  23:00:00   \n",
       "1  2018-07-21         2        4         3       4             4  23:00:00   \n",
       "2  2018-07-21         3        3         3       5             4  22:30:00   \n",
       "3  2018-07-21         4        2         3       5             4  00:30:00   \n",
       "4  2018-07-21         5        5         3       4             4  23:45:00   \n",
       "\n",
       "   WakeTime  SleepHours  SleepQuality  MonitoringScore Pain Illness  \\\n",
       "0  07:00:00        8.00             2               13   No      No   \n",
       "1  07:00:00        8.00             4               19  Yes      No   \n",
       "2  06:30:00        8.00             4               19   No      No   \n",
       "3  07:00:00        6.50             1               15   No      No   \n",
       "4  07:00:00        7.25             4               20   No      No   \n",
       "\n",
       "  Menstruation  Nutrition NutritionAdjustment USGMeasurement    USG  \\\n",
       "0          Yes  Excellent                 Yes             No    NaN   \n",
       "1          Yes        NaN                 NaN            Yes  1.010   \n",
       "2           No        NaN                 NaN            Yes  1.016   \n",
       "3          Yes  Excellent                 Yes            Yes  1.025   \n",
       "4           No       Okay                 Yes            Yes  1.022   \n",
       "\n",
       "  TrainingReadiness  \n",
       "0                0%  \n",
       "1                0%  \n",
       "2              100%  \n",
       "3               95%  \n",
       "4              100%  "
      ]
     },
     "execution_count": 10,
     "metadata": {},
     "output_type": "execute_result"
    }
   ],
   "source": [
    "wellness.head()"
   ]
  },
  {
   "cell_type": "code",
   "execution_count": 11,
   "metadata": {},
   "outputs": [
    {
     "name": "stdout",
     "output_type": "stream",
     "text": [
      "<class 'pandas.core.frame.DataFrame'>\n",
      "RangeIndex: 38 entries, 0 to 37\n",
      "Data columns (total 9 columns):\n",
      "GameID               38 non-null int64\n",
      "Date                 38 non-null object\n",
      "Tournament           38 non-null object\n",
      "TournamentGame       38 non-null int64\n",
      "Team                 38 non-null object\n",
      "Opponent             38 non-null object\n",
      "Outcome              38 non-null object\n",
      "TeamPoints           38 non-null int64\n",
      "TeamPointsAllowed    38 non-null int64\n",
      "dtypes: int64(4), object(5)\n",
      "memory usage: 2.8+ KB\n"
     ]
    }
   ],
   "source": [
    "games.info()"
   ]
  },
  {
   "cell_type": "code",
   "execution_count": 12,
   "metadata": {},
   "outputs": [
    {
     "name": "stdout",
     "output_type": "stream",
     "text": [
      "<class 'pandas.core.frame.DataFrame'>\n",
      "RangeIndex: 4570160 entries, 0 to 4570159\n",
      "Data columns (total 14 columns):\n",
      "GameID          int64\n",
      "Half            int64\n",
      "PlayerID        int64\n",
      "FrameID         int64\n",
      "Time            object\n",
      "GameClock       object\n",
      "Speed           float64\n",
      "AccelImpulse    float64\n",
      "AccelLoad       float64\n",
      "AccelX          float64\n",
      "AccelY          float64\n",
      "AccelZ          float64\n",
      "Longitude       float64\n",
      "Latitude        float64\n",
      "dtypes: float64(8), int64(4), object(2)\n",
      "memory usage: 488.1+ MB\n"
     ]
    }
   ],
   "source": [
    "gps.info(verbose=True)"
   ]
  },
  {
   "cell_type": "code",
   "execution_count": 13,
   "metadata": {},
   "outputs": [
    {
     "name": "stdout",
     "output_type": "stream",
     "text": [
      "<class 'pandas.core.frame.DataFrame'>\n",
      "RangeIndex: 8860 entries, 0 to 8859\n",
      "Data columns (total 14 columns):\n",
      "Date                 8860 non-null object\n",
      "PlayerID             8860 non-null int64\n",
      "Training             8860 non-null object\n",
      "SessionType          7621 non-null object\n",
      "Duration             7621 non-null float64\n",
      "RPE                  7621 non-null float64\n",
      "SessionLoad          7621 non-null float64\n",
      "DailyLoad            3149 non-null float64\n",
      "AcuteLoad            4349 non-null float64\n",
      "ChronicLoad          4383 non-null float64\n",
      "AcuteChronicRatio    4349 non-null float64\n",
      "ObjectiveRating      4724 non-null float64\n",
      "FocusRating          4751 non-null float64\n",
      "BestOutOfMyself      3019 non-null object\n",
      "dtypes: float64(9), int64(1), object(4)\n",
      "memory usage: 969.1+ KB\n"
     ]
    }
   ],
   "source": [
    "rpe.info()"
   ]
  },
  {
   "cell_type": "code",
   "execution_count": 14,
   "metadata": {},
   "outputs": [
    {
     "name": "stdout",
     "output_type": "stream",
     "text": [
      "<class 'pandas.core.frame.DataFrame'>\n",
      "RangeIndex: 5011 entries, 0 to 5010\n",
      "Data columns (total 19 columns):\n",
      "Date                   5011 non-null object\n",
      "PlayerID               5011 non-null int64\n",
      "Fatigue                5011 non-null int64\n",
      "Soreness               5011 non-null int64\n",
      "Desire                 5011 non-null int64\n",
      "Irritability           5011 non-null int64\n",
      "BedTime                5011 non-null object\n",
      "WakeTime               5011 non-null object\n",
      "SleepHours             5011 non-null float64\n",
      "SleepQuality           5011 non-null int64\n",
      "MonitoringScore        5011 non-null int64\n",
      "Pain                   5011 non-null object\n",
      "Illness                5011 non-null object\n",
      "Menstruation           4995 non-null object\n",
      "Nutrition              4174 non-null object\n",
      "NutritionAdjustment    4266 non-null object\n",
      "USGMeasurement         4843 non-null object\n",
      "USG                    629 non-null float64\n",
      "TrainingReadiness      5011 non-null object\n",
      "dtypes: float64(2), int64(7), object(10)\n",
      "memory usage: 743.9+ KB\n"
     ]
    }
   ],
   "source": [
    "wellness.info()"
   ]
  },
  {
   "cell_type": "code",
   "execution_count": null,
   "metadata": {},
   "outputs": [],
   "source": []
  },
  {
   "cell_type": "markdown",
   "metadata": {},
   "source": [
    "## Wellness Imputation"
   ]
  },
  {
   "cell_type": "code",
   "execution_count": 15,
   "metadata": {},
   "outputs": [
    {
     "data": {
      "text/plain": [
       "No     4285\n",
       "Yes     710\n",
       "Name: Menstruation, dtype: int64"
      ]
     },
     "execution_count": 15,
     "metadata": {},
     "output_type": "execute_result"
    }
   ],
   "source": [
    "wellness['Menstruation'].value_counts()"
   ]
  },
  {
   "cell_type": "code",
   "execution_count": 16,
   "metadata": {},
   "outputs": [],
   "source": [
    "wellness['Menstruation'].fillna(value='No', inplace=True)"
   ]
  },
  {
   "cell_type": "code",
   "execution_count": 17,
   "metadata": {},
   "outputs": [],
   "source": [
    "wellness['USG'] = wellness.apply(lambda x: wellness.groupby('PlayerID')['USG'].median()[x['PlayerID']], axis=1)"
   ]
  },
  {
   "cell_type": "code",
   "execution_count": 18,
   "metadata": {},
   "outputs": [],
   "source": [
    "wellness['Nutrition'] = wellness.apply(lambda x: wellness.groupby('PlayerID')['Nutrition'].value_counts()[x['PlayerID']].index[0], axis=1)"
   ]
  },
  {
   "cell_type": "code",
   "execution_count": 19,
   "metadata": {},
   "outputs": [],
   "source": [
    "wellness['NutritionAdjustment'] = wellness.apply(lambda x: wellness.groupby('PlayerID')['NutritionAdjustment'].value_counts()[x['PlayerID']].index[0], axis=1)"
   ]
  },
  {
   "cell_type": "code",
   "execution_count": 20,
   "metadata": {},
   "outputs": [],
   "source": [
    "wellness['USGMeasurement'].fillna(value='Yes', inplace=True)"
   ]
  },
  {
   "cell_type": "code",
   "execution_count": 21,
   "metadata": {},
   "outputs": [
    {
     "name": "stdout",
     "output_type": "stream",
     "text": [
      "<class 'pandas.core.frame.DataFrame'>\n",
      "RangeIndex: 5011 entries, 0 to 5010\n",
      "Data columns (total 19 columns):\n",
      "Date                   5011 non-null object\n",
      "PlayerID               5011 non-null int64\n",
      "Fatigue                5011 non-null int64\n",
      "Soreness               5011 non-null int64\n",
      "Desire                 5011 non-null int64\n",
      "Irritability           5011 non-null int64\n",
      "BedTime                5011 non-null object\n",
      "WakeTime               5011 non-null object\n",
      "SleepHours             5011 non-null float64\n",
      "SleepQuality           5011 non-null int64\n",
      "MonitoringScore        5011 non-null int64\n",
      "Pain                   5011 non-null object\n",
      "Illness                5011 non-null object\n",
      "Menstruation           5011 non-null object\n",
      "Nutrition              5011 non-null object\n",
      "NutritionAdjustment    5011 non-null object\n",
      "USGMeasurement         5011 non-null object\n",
      "USG                    5011 non-null float64\n",
      "TrainingReadiness      5011 non-null object\n",
      "dtypes: float64(2), int64(7), object(10)\n",
      "memory usage: 743.9+ KB\n"
     ]
    }
   ],
   "source": [
    "wellness.info()"
   ]
  },
  {
   "cell_type": "markdown",
   "metadata": {},
   "source": [
    "## RPE Imputation"
   ]
  },
  {
   "cell_type": "code",
   "execution_count": 101,
   "metadata": {},
   "outputs": [
    {
     "name": "stdout",
     "output_type": "stream",
     "text": [
      "<class 'pandas.core.frame.DataFrame'>\n",
      "RangeIndex: 8860 entries, 0 to 8859\n",
      "Data columns (total 14 columns):\n",
      "Date                 8860 non-null object\n",
      "PlayerID             8860 non-null int64\n",
      "Training             8860 non-null object\n",
      "SessionType          7621 non-null object\n",
      "Duration             7621 non-null float64\n",
      "RPE                  7621 non-null float64\n",
      "SessionLoad          7621 non-null float64\n",
      "DailyLoad            3149 non-null float64\n",
      "AcuteLoad            4349 non-null float64\n",
      "ChronicLoad          4383 non-null float64\n",
      "AcuteChronicRatio    4349 non-null float64\n",
      "ObjectiveRating      4724 non-null float64\n",
      "FocusRating          4751 non-null float64\n",
      "BestOutOfMyself      3019 non-null object\n",
      "dtypes: float64(9), int64(1), object(4)\n",
      "memory usage: 969.1+ KB\n"
     ]
    }
   ],
   "source": [
    "rpe.info()"
   ]
  },
  {
   "cell_type": "code",
   "execution_count": 102,
   "metadata": {},
   "outputs": [
    {
     "data": {
      "text/plain": [
       "Strength             1909\n",
       "Skills               1859\n",
       "Speed                1245\n",
       "Mobility/Recovery     992\n",
       "Conditioning          960\n",
       "Game                  463\n",
       "Combat                193\n",
       "Name: SessionType, dtype: int64"
      ]
     },
     "execution_count": 102,
     "metadata": {},
     "output_type": "execute_result"
    }
   ],
   "source": [
    "rpe['SessionType'].value_counts()"
   ]
  },
  {
   "cell_type": "code",
   "execution_count": 103,
   "metadata": {},
   "outputs": [],
   "source": [
    "def fill_cat_data_gb_player(data, col):\n",
    "    return data.apply(lambda x: data.groupby('PlayerID')[col].value_counts()[x['PlayerID']].index[0], axis=1)\n",
    "\n",
    "def fill_quant_data_gb_player(data, col):\n",
    "    return data.apply(lambda x: data.groupby('PlayerID')[col].median()[x['PlayerID']], axis=1)"
   ]
  },
  {
   "cell_type": "code",
   "execution_count": 104,
   "metadata": {},
   "outputs": [],
   "source": [
    "rpe['SessionType'] = fill_cat_data_gb_player(rpe, 'SessionType')\n",
    "rpe['BestOutOfMyself'] = fill_cat_data_gb_player(rpe, 'BestOutOfMyself')"
   ]
  },
  {
   "cell_type": "code",
   "execution_count": 105,
   "metadata": {},
   "outputs": [],
   "source": [
    "rpe_float_cols = rpe.columns[rpe.dtypes == 'float64']\n",
    "\n",
    "for col in rpe_float_cols:\n",
    "    rpe[col] = fill_quant_data_gb_player(rpe, col)"
   ]
  },
  {
   "cell_type": "code",
   "execution_count": 106,
   "metadata": {},
   "outputs": [
    {
     "name": "stdout",
     "output_type": "stream",
     "text": [
      "<class 'pandas.core.frame.DataFrame'>\n",
      "RangeIndex: 8860 entries, 0 to 8859\n",
      "Data columns (total 14 columns):\n",
      "Date                 8860 non-null object\n",
      "PlayerID             8860 non-null int64\n",
      "Training             8860 non-null object\n",
      "SessionType          8860 non-null object\n",
      "Duration             8860 non-null float64\n",
      "RPE                  8860 non-null float64\n",
      "SessionLoad          8860 non-null float64\n",
      "DailyLoad            8860 non-null float64\n",
      "AcuteLoad            8860 non-null float64\n",
      "ChronicLoad          8860 non-null float64\n",
      "AcuteChronicRatio    8860 non-null float64\n",
      "ObjectiveRating      8860 non-null float64\n",
      "FocusRating          8860 non-null float64\n",
      "BestOutOfMyself      8860 non-null object\n",
      "dtypes: float64(9), int64(1), object(4)\n",
      "memory usage: 969.1+ KB\n"
     ]
    }
   ],
   "source": [
    "rpe.info()"
   ]
  },
  {
   "cell_type": "markdown",
   "metadata": {},
   "source": [
    "## Baseline Model With Only Wellness Measures"
   ]
  },
  {
   "cell_type": "code",
   "execution_count": 167,
   "metadata": {},
   "outputs": [],
   "source": [
    "from sklearn.linear_model import LinearRegression, LogisticRegression, LogisticRegressionCV\n",
    "from sklearn.neighbors import KNeighborsClassifier\n",
    "from sklearn.preprocessing import StandardScaler, LabelEncoder, OneHotEncoder\n",
    "from sklearn.model_selection import train_test_split, cross_val_score, GridSearchCV\n",
    "from sklearn.metrics import mean_absolute_error, mean_squared_error, explained_variance_score\n",
    "from sklearn.metrics import confusion_matrix, classification_report, accuracy_score, roc_auc_score"
   ]
  },
  {
   "cell_type": "code",
   "execution_count": 82,
   "metadata": {},
   "outputs": [],
   "source": [
    "def printErrors(y_test, y_pred):\n",
    "    mae = mean_absolute_error(y_test, y_pred)\n",
    "    mse = mean_squared_error(y_test, y_pred)\n",
    "    rmse = np.sqrt(mean_squared_error(y_test, y_pred))\n",
    "\n",
    "    errorsDict = {\"MAE\": mae, \n",
    "                  \"MSE\": mse, \n",
    "                  \"RMSE\": rmse}\n",
    "    \n",
    "    #R-squared value: measure of how much of the variability is explained in our model\n",
    "    r_square = explained_variance_score(y_test, y_pred)\n",
    "    print(\"r-squared: {}\".format(r_square))\n",
    "\n",
    "    for k, v in sorted(errorsDict.items()):\n",
    "        print(\"{}: {}\".format(k, v))\n",
    "        \n",
    "def printClassificationErrors(y_test, y_pred):\n",
    "    print('Confusion Matrix:')\n",
    "    print(confusion_matrix(y_test, y_pred))\n",
    "    print('Classification Report:')\n",
    "    print(classification_report(y_test, y_pred))\n",
    "    print('Accuracy Score: {}'.format(accuracy_score(y_test, y_pred)))"
   ]
  },
  {
   "cell_type": "code",
   "execution_count": 23,
   "metadata": {},
   "outputs": [],
   "source": [
    "numerical_features = wellness.columns[wellness.dtypes != 'object']\n",
    "categorical_features = wellness.columns[wellness.dtypes == 'object']"
   ]
  },
  {
   "cell_type": "code",
   "execution_count": 25,
   "metadata": {},
   "outputs": [],
   "source": [
    "data = pd.get_dummies(data=wellness, columns=categorical_features)"
   ]
  },
  {
   "cell_type": "code",
   "execution_count": 26,
   "metadata": {},
   "outputs": [
    {
     "name": "stdout",
     "output_type": "stream",
     "text": [
      "<class 'pandas.core.frame.DataFrame'>\n",
      "RangeIndex: 5011 entries, 0 to 5010\n",
      "Columns: 501 entries, PlayerID to TrainingReadiness_95%\n",
      "dtypes: float64(2), int64(7), uint8(492)\n",
      "memory usage: 2.7 MB\n"
     ]
    }
   ],
   "source": [
    "data.info()"
   ]
  },
  {
   "cell_type": "code",
   "execution_count": 28,
   "metadata": {},
   "outputs": [],
   "source": [
    "X = data.drop(['Fatigue', 'Date'], axis=1)\n",
    "y = data['Fatigue']"
   ]
  },
  {
   "cell_type": "code",
   "execution_count": 30,
   "metadata": {},
   "outputs": [],
   "source": [
    "columns = X.columns\n",
    "sc = StandardScaler()\n",
    "X[columns] = sc.fit_transform(X[columns])"
   ]
  },
  {
   "cell_type": "code",
   "execution_count": 31,
   "metadata": {},
   "outputs": [],
   "source": [
    "X_train, X_test, y_train, y_test = train_test_split(X, y, test_size=0.33, random_state=42, stratify=y)"
   ]
  },
  {
   "cell_type": "code",
   "execution_count": 73,
   "metadata": {},
   "outputs": [
    {
     "name": "stdout",
     "output_type": "stream",
     "text": [
      "r-squared: 0.9029573410190773\n",
      "MAE: 0.01841952459504398\n",
      "MSE: 0.10100263444109793\n",
      "RMSE: 0.3178091163593296\n"
     ]
    }
   ],
   "source": [
    "lr = LinearRegression()\n",
    "lr.fit(X_train, y_train)\n",
    "y_pred = lr.predict(X_test)\n",
    "printErrors(y_test, y_pred)"
   ]
  },
  {
   "cell_type": "code",
   "execution_count": 83,
   "metadata": {},
   "outputs": [
    {
     "name": "stdout",
     "output_type": "stream",
     "text": [
      "Confusion Matrix:\n",
      "[[  2  44  16   0   0   0   0]\n",
      " [  7  79 124   2   0   0   0]\n",
      " [  5  40 374 143   4   2   0]\n",
      " [  7   0 119 519   9   7   0]\n",
      " [  0   0  10  82   2   5   0]\n",
      " [  0   0   0  25   1  24   0]\n",
      " [  0   0   0   2   0   0   0]]\n",
      "Classification Report:\n",
      "             precision    recall  f1-score   support\n",
      "\n",
      "          1       0.10      0.03      0.05        62\n",
      "          2       0.48      0.37      0.42       212\n",
      "          3       0.58      0.66      0.62       568\n",
      "          4       0.67      0.79      0.72       661\n",
      "          5       0.12      0.02      0.03        99\n",
      "          6       0.63      0.48      0.55        50\n",
      "          7       0.00      0.00      0.00         2\n",
      "\n",
      "avg / total       0.56      0.60      0.58      1654\n",
      "\n",
      "Accuracy Score: 0.6045949214026602\n"
     ]
    },
    {
     "name": "stderr",
     "output_type": "stream",
     "text": [
      "/Users/Raymond/anaconda/lib/python3.5/site-packages/sklearn/metrics/classification.py:1135: UndefinedMetricWarning: Precision and F-score are ill-defined and being set to 0.0 in labels with no predicted samples.\n",
      "  'precision', 'predicted', average, warn_for)\n"
     ]
    }
   ],
   "source": [
    "logr = LogisticRegressionCV(penalty='l2')\n",
    "logr.fit(X_train, y_train)\n",
    "y_pred = logr.predict(X_test)\n",
    "printClassificationErrors(y_test, y_pred)"
   ]
  },
  {
   "cell_type": "markdown",
   "metadata": {},
   "source": [
    "## Baseline Model With Both RPE & Wellness"
   ]
  },
  {
   "cell_type": "code",
   "execution_count": 153,
   "metadata": {},
   "outputs": [
    {
     "data": {
      "text/html": [
       "<div>\n",
       "<style>\n",
       "    .dataframe thead tr:only-child th {\n",
       "        text-align: right;\n",
       "    }\n",
       "\n",
       "    .dataframe thead th {\n",
       "        text-align: left;\n",
       "    }\n",
       "\n",
       "    .dataframe tbody tr th {\n",
       "        vertical-align: top;\n",
       "    }\n",
       "</style>\n",
       "<table border=\"1\" class=\"dataframe\">\n",
       "  <thead>\n",
       "    <tr style=\"text-align: right;\">\n",
       "      <th></th>\n",
       "      <th>Date</th>\n",
       "      <th>PlayerID</th>\n",
       "      <th>Training</th>\n",
       "      <th>SessionType</th>\n",
       "      <th>Duration</th>\n",
       "      <th>RPE</th>\n",
       "      <th>SessionLoad</th>\n",
       "      <th>DailyLoad</th>\n",
       "      <th>AcuteLoad</th>\n",
       "      <th>ChronicLoad</th>\n",
       "      <th>AcuteChronicRatio</th>\n",
       "      <th>ObjectiveRating</th>\n",
       "      <th>FocusRating</th>\n",
       "      <th>BestOutOfMyself</th>\n",
       "      <th>Fatigue</th>\n",
       "      <th>Soreness</th>\n",
       "      <th>Desire</th>\n",
       "      <th>Irritability</th>\n",
       "      <th>BedTime</th>\n",
       "      <th>WakeTime</th>\n",
       "      <th>SleepHours</th>\n",
       "      <th>SleepQuality</th>\n",
       "      <th>MonitoringScore</th>\n",
       "      <th>Pain</th>\n",
       "      <th>Illness</th>\n",
       "      <th>Menstruation</th>\n",
       "      <th>Nutrition</th>\n",
       "      <th>NutritionAdjustment</th>\n",
       "      <th>USGMeasurement</th>\n",
       "      <th>USG</th>\n",
       "      <th>TrainingReadiness</th>\n",
       "    </tr>\n",
       "  </thead>\n",
       "  <tbody>\n",
       "    <tr>\n",
       "      <th>0</th>\n",
       "      <td>2018-07-21</td>\n",
       "      <td>13</td>\n",
       "      <td>Yes</td>\n",
       "      <td>Mobility/Recovery</td>\n",
       "      <td>45.0</td>\n",
       "      <td>5.0</td>\n",
       "      <td>180.0</td>\n",
       "      <td>450.0</td>\n",
       "      <td>325.6</td>\n",
       "      <td>372.86</td>\n",
       "      <td>0.89</td>\n",
       "      <td>8.0</td>\n",
       "      <td>9.0</td>\n",
       "      <td>Not at all</td>\n",
       "      <td>4</td>\n",
       "      <td>3</td>\n",
       "      <td>5</td>\n",
       "      <td>4</td>\n",
       "      <td>23:15:00</td>\n",
       "      <td>07:15:00</td>\n",
       "      <td>8.00</td>\n",
       "      <td>4</td>\n",
       "      <td>20</td>\n",
       "      <td>No</td>\n",
       "      <td>No</td>\n",
       "      <td>No</td>\n",
       "      <td>Excellent</td>\n",
       "      <td>Yes</td>\n",
       "      <td>Yes</td>\n",
       "      <td>1.0185</td>\n",
       "      <td>100%</td>\n",
       "    </tr>\n",
       "    <tr>\n",
       "      <th>1</th>\n",
       "      <td>2018-07-21</td>\n",
       "      <td>13</td>\n",
       "      <td>Yes</td>\n",
       "      <td>Mobility/Recovery</td>\n",
       "      <td>45.0</td>\n",
       "      <td>5.0</td>\n",
       "      <td>180.0</td>\n",
       "      <td>450.0</td>\n",
       "      <td>325.6</td>\n",
       "      <td>372.86</td>\n",
       "      <td>0.89</td>\n",
       "      <td>8.0</td>\n",
       "      <td>9.0</td>\n",
       "      <td>Not at all</td>\n",
       "      <td>4</td>\n",
       "      <td>3</td>\n",
       "      <td>5</td>\n",
       "      <td>4</td>\n",
       "      <td>23:15:00</td>\n",
       "      <td>07:15:00</td>\n",
       "      <td>8.00</td>\n",
       "      <td>4</td>\n",
       "      <td>20</td>\n",
       "      <td>No</td>\n",
       "      <td>No</td>\n",
       "      <td>No</td>\n",
       "      <td>Excellent</td>\n",
       "      <td>Yes</td>\n",
       "      <td>Yes</td>\n",
       "      <td>1.0185</td>\n",
       "      <td>100%</td>\n",
       "    </tr>\n",
       "    <tr>\n",
       "      <th>2</th>\n",
       "      <td>2018-07-21</td>\n",
       "      <td>13</td>\n",
       "      <td>Yes</td>\n",
       "      <td>Mobility/Recovery</td>\n",
       "      <td>45.0</td>\n",
       "      <td>5.0</td>\n",
       "      <td>180.0</td>\n",
       "      <td>450.0</td>\n",
       "      <td>325.6</td>\n",
       "      <td>372.86</td>\n",
       "      <td>0.89</td>\n",
       "      <td>8.0</td>\n",
       "      <td>9.0</td>\n",
       "      <td>Not at all</td>\n",
       "      <td>4</td>\n",
       "      <td>3</td>\n",
       "      <td>5</td>\n",
       "      <td>4</td>\n",
       "      <td>23:15:00</td>\n",
       "      <td>07:15:00</td>\n",
       "      <td>8.00</td>\n",
       "      <td>4</td>\n",
       "      <td>20</td>\n",
       "      <td>No</td>\n",
       "      <td>No</td>\n",
       "      <td>No</td>\n",
       "      <td>Excellent</td>\n",
       "      <td>Yes</td>\n",
       "      <td>Yes</td>\n",
       "      <td>1.0185</td>\n",
       "      <td>100%</td>\n",
       "    </tr>\n",
       "    <tr>\n",
       "      <th>3</th>\n",
       "      <td>2018-07-20</td>\n",
       "      <td>11</td>\n",
       "      <td>Yes</td>\n",
       "      <td>Skills</td>\n",
       "      <td>50.0</td>\n",
       "      <td>4.0</td>\n",
       "      <td>225.0</td>\n",
       "      <td>670.0</td>\n",
       "      <td>381.4</td>\n",
       "      <td>428.61</td>\n",
       "      <td>0.88</td>\n",
       "      <td>8.0</td>\n",
       "      <td>9.0</td>\n",
       "      <td>Absolutely</td>\n",
       "      <td>4</td>\n",
       "      <td>4</td>\n",
       "      <td>6</td>\n",
       "      <td>4</td>\n",
       "      <td>23:00:00</td>\n",
       "      <td>07:15:00</td>\n",
       "      <td>8.25</td>\n",
       "      <td>4</td>\n",
       "      <td>22</td>\n",
       "      <td>No</td>\n",
       "      <td>Slightly Off</td>\n",
       "      <td>No</td>\n",
       "      <td>Excellent</td>\n",
       "      <td>Yes</td>\n",
       "      <td>Yes</td>\n",
       "      <td>1.0150</td>\n",
       "      <td>100%</td>\n",
       "    </tr>\n",
       "    <tr>\n",
       "      <th>4</th>\n",
       "      <td>2018-07-20</td>\n",
       "      <td>11</td>\n",
       "      <td>Yes</td>\n",
       "      <td>Skills</td>\n",
       "      <td>50.0</td>\n",
       "      <td>4.0</td>\n",
       "      <td>225.0</td>\n",
       "      <td>670.0</td>\n",
       "      <td>381.4</td>\n",
       "      <td>428.61</td>\n",
       "      <td>0.88</td>\n",
       "      <td>8.0</td>\n",
       "      <td>9.0</td>\n",
       "      <td>Absolutely</td>\n",
       "      <td>4</td>\n",
       "      <td>4</td>\n",
       "      <td>6</td>\n",
       "      <td>4</td>\n",
       "      <td>23:00:00</td>\n",
       "      <td>07:15:00</td>\n",
       "      <td>8.25</td>\n",
       "      <td>4</td>\n",
       "      <td>22</td>\n",
       "      <td>No</td>\n",
       "      <td>Slightly Off</td>\n",
       "      <td>No</td>\n",
       "      <td>Excellent</td>\n",
       "      <td>Yes</td>\n",
       "      <td>Yes</td>\n",
       "      <td>1.0150</td>\n",
       "      <td>100%</td>\n",
       "    </tr>\n",
       "  </tbody>\n",
       "</table>\n",
       "</div>"
      ],
      "text/plain": [
       "         Date  PlayerID Training        SessionType  Duration  RPE  \\\n",
       "0  2018-07-21        13      Yes  Mobility/Recovery      45.0  5.0   \n",
       "1  2018-07-21        13      Yes  Mobility/Recovery      45.0  5.0   \n",
       "2  2018-07-21        13      Yes  Mobility/Recovery      45.0  5.0   \n",
       "3  2018-07-20        11      Yes             Skills      50.0  4.0   \n",
       "4  2018-07-20        11      Yes             Skills      50.0  4.0   \n",
       "\n",
       "   SessionLoad  DailyLoad  AcuteLoad  ChronicLoad  AcuteChronicRatio  \\\n",
       "0        180.0      450.0      325.6       372.86               0.89   \n",
       "1        180.0      450.0      325.6       372.86               0.89   \n",
       "2        180.0      450.0      325.6       372.86               0.89   \n",
       "3        225.0      670.0      381.4       428.61               0.88   \n",
       "4        225.0      670.0      381.4       428.61               0.88   \n",
       "\n",
       "   ObjectiveRating  FocusRating BestOutOfMyself  Fatigue  Soreness  Desire  \\\n",
       "0              8.0          9.0      Not at all        4         3       5   \n",
       "1              8.0          9.0      Not at all        4         3       5   \n",
       "2              8.0          9.0      Not at all        4         3       5   \n",
       "3              8.0          9.0      Absolutely        4         4       6   \n",
       "4              8.0          9.0      Absolutely        4         4       6   \n",
       "\n",
       "   Irritability   BedTime  WakeTime  SleepHours  SleepQuality  \\\n",
       "0             4  23:15:00  07:15:00        8.00             4   \n",
       "1             4  23:15:00  07:15:00        8.00             4   \n",
       "2             4  23:15:00  07:15:00        8.00             4   \n",
       "3             4  23:00:00  07:15:00        8.25             4   \n",
       "4             4  23:00:00  07:15:00        8.25             4   \n",
       "\n",
       "   MonitoringScore Pain       Illness Menstruation  Nutrition  \\\n",
       "0               20   No            No           No  Excellent   \n",
       "1               20   No            No           No  Excellent   \n",
       "2               20   No            No           No  Excellent   \n",
       "3               22   No  Slightly Off           No  Excellent   \n",
       "4               22   No  Slightly Off           No  Excellent   \n",
       "\n",
       "  NutritionAdjustment USGMeasurement     USG TrainingReadiness  \n",
       "0                 Yes            Yes  1.0185              100%  \n",
       "1                 Yes            Yes  1.0185              100%  \n",
       "2                 Yes            Yes  1.0185              100%  \n",
       "3                 Yes            Yes  1.0150              100%  \n",
       "4                 Yes            Yes  1.0150              100%  "
      ]
     },
     "execution_count": 153,
     "metadata": {},
     "output_type": "execute_result"
    }
   ],
   "source": [
    "pd.set_option('max_columns', 31)\n",
    "data = rpe.merge(wellness, how='inner', left_on=['PlayerID', 'Date'], right_on=['PlayerID', 'Date'])\n",
    "data.head()"
   ]
  },
  {
   "cell_type": "code",
   "execution_count": 154,
   "metadata": {},
   "outputs": [],
   "source": [
    "data = data.groupby(['Date', 'PlayerID']).max().reset_index()"
   ]
  },
  {
   "cell_type": "code",
   "execution_count": 155,
   "metadata": {},
   "outputs": [],
   "source": [
    "data['Date'] = pd.to_datetime(data['Date'])\n",
    "numerical_features = data.columns[data.dtypes != 'object']\n",
    "categorical_features = data.columns[data.dtypes == 'object']\n",
    "\n",
    "data = pd.get_dummies(data=data, columns=categorical_features)"
   ]
  },
  {
   "cell_type": "code",
   "execution_count": 156,
   "metadata": {},
   "outputs": [
    {
     "name": "stdout",
     "output_type": "stream",
     "text": [
      "<class 'pandas.core.frame.DataFrame'>\n",
      "RangeIndex: 4085 entries, 0 to 4084\n",
      "Columns: 161 entries, Date to TrainingReadiness_95%\n",
      "dtypes: datetime64[ns](1), float64(11), int64(7), uint8(142)\n",
      "memory usage: 1.1 MB\n"
     ]
    }
   ],
   "source": [
    "data.info()"
   ]
  },
  {
   "cell_type": "code",
   "execution_count": 157,
   "metadata": {},
   "outputs": [],
   "source": [
    "X = data.drop(['Fatigue', 'Date'], axis=1)\n",
    "y = data['Fatigue']"
   ]
  },
  {
   "cell_type": "code",
   "execution_count": 158,
   "metadata": {},
   "outputs": [],
   "source": [
    "columns = X.columns\n",
    "sc = StandardScaler()\n",
    "X[columns] = sc.fit_transform(X[columns])"
   ]
  },
  {
   "cell_type": "code",
   "execution_count": 159,
   "metadata": {},
   "outputs": [],
   "source": [
    "X_train, X_test, y_train, y_test = train_test_split(X, y, test_size=0.33, random_state=42, stratify=y)"
   ]
  },
  {
   "cell_type": "code",
   "execution_count": 160,
   "metadata": {},
   "outputs": [
    {
     "name": "stdout",
     "output_type": "stream",
     "text": [
      "r-squared: 0.6847517651977939\n",
      "MAE: 0.05047550674450054\n",
      "MSE: 0.33069963591226315\n",
      "RMSE: 0.5750648971309787\n"
     ]
    }
   ],
   "source": [
    "lr = LinearRegression()\n",
    "lr.fit(X_train, y_train)\n",
    "y_pred = lr.predict(X_test)\n",
    "printErrors(y_test, y_pred)"
   ]
  },
  {
   "cell_type": "code",
   "execution_count": 168,
   "metadata": {},
   "outputs": [
    {
     "name": "stdout",
     "output_type": "stream",
     "text": [
      "Confusion Matrix:\n",
      "[[ 11  38   5   0   0   0   0]\n",
      " [ 11  77  92   2   0   0   0]\n",
      " [  4  12 394  71   1   0   0]\n",
      " [  0   0  62 440  13   2   0]\n",
      " [  0   0   2  51  15   2   0]\n",
      " [  0   0   0   9   4  30   0]\n",
      " [  0   0   0   1   0   0   0]]\n",
      "Classification Report:\n",
      "             precision    recall  f1-score   support\n",
      "\n",
      "          1       0.42      0.20      0.27        54\n",
      "          2       0.61      0.42      0.50       182\n",
      "          3       0.71      0.82      0.76       482\n",
      "          4       0.77      0.85      0.81       517\n",
      "          5       0.45      0.21      0.29        70\n",
      "          6       0.88      0.70      0.78        43\n",
      "          7       0.00      0.00      0.00         1\n",
      "\n",
      "avg / total       0.70      0.72      0.70      1349\n",
      "\n",
      "Accuracy Score: 0.7168272794662713\n"
     ]
    },
    {
     "name": "stderr",
     "output_type": "stream",
     "text": [
      "/Users/Raymond/anaconda/lib/python3.5/site-packages/sklearn/metrics/classification.py:1135: UndefinedMetricWarning: Precision and F-score are ill-defined and being set to 0.0 in labels with no predicted samples.\n",
      "  'precision', 'predicted', average, warn_for)\n"
     ]
    }
   ],
   "source": [
    "logr = LogisticRegression(penalty='l2')\n",
    "logr.fit(X_train, y_train)\n",
    "y_pred = logr.predict(X_test)\n",
    "printClassificationErrors(y_test, y_pred)"
   ]
  },
  {
   "cell_type": "code",
   "execution_count": 145,
   "metadata": {},
   "outputs": [],
   "source": [
    "data2 = rpe.merge(wellness, how='inner', left_on=['PlayerID', 'Date'], right_on=['PlayerID', 'Date'])\n",
    "data2 = data2.groupby(['Date', 'PlayerID']).max().reset_index()"
   ]
  },
  {
   "cell_type": "code",
   "execution_count": 151,
   "metadata": {},
   "outputs": [
    {
     "data": {
      "text/plain": [
       "<matplotlib.axes._subplots.AxesSubplot at 0x110617400>"
      ]
     },
     "execution_count": 151,
     "metadata": {},
     "output_type": "execute_result"
    },
    {
     "data": {
      "image/png": "[encoded data removed]",
      "text/plain": [
       "<matplotlib.figure.Figure at 0x1a1b1a8be0>"
      ]
     },
     "metadata": {},
     "output_type": "display_data"
    }
   ],
   "source": [
    "plt.figure(figsize=(20, 15))\n",
    "sns.heatmap(round(data2[data2.columns[data2.dtypes != 'object']].drop(['PlayerID'], axis=1).corr(), 2), annot=True)"
   ]
  },
  {
   "cell_type": "code",
   "execution_count": null,
   "metadata": {},
   "outputs": [],
   "source": []
  }
 ],
 "metadata": {
  "kernelspec": {
   "display_name": "Python 3",
   "language": "python",
   "name": "python3"
  },
  "language_info": {
   "codemirror_mode": {
    "name": "ipython",
    "version": 3
   },
   "file_extension": ".py",
   "mimetype": "text/x-python",
   "name": "python",
   "nbconvert_exporter": "python",
   "pygments_lexer": "ipython3",
   "version": "3.5.4"
  }
 },
 "nbformat": 4,
 "nbformat_minor": 2
}
